{
 "cells": [
  {
   "cell_type": "code",
   "execution_count": 2,
   "id": "665522ec-861c-4899-91cc-718b2cc9fdce",
   "metadata": {},
   "outputs": [],
   "source": [
    "from sklearn.preprocessing import StandardScaler\n",
    "import pandas as pd"
   ]
  },
  {
   "cell_type": "code",
   "execution_count": 3,
   "id": "9007a11f-7aeb-4619-b38d-2f02a7ec364c",
   "metadata": {},
   "outputs": [
    {
     "name": "stdout",
     "output_type": "stream",
     "text": [
      "Original Data:\n",
      "    Name  Age  Salary\n",
      "0   Amit   22   25000\n",
      "1  Priya   25   30000\n",
      "2  Rahul   47   95000\n",
      "3  Sneha   52  120000\n",
      "4  Vivek   46   99000\n"
     ]
    }
   ],
   "source": [
    "data = {\n",
    "    'Name': ['Amit', 'Priya', 'Rahul', 'Sneha', 'Vivek'],\n",
    "    'Age': [22, 25, 47, 52, 46],\n",
    "    'Salary': [25000, 30000, 95000, 120000, 99000]\n",
    "}\n",
    "df = pd.DataFrame(data)\n",
    "print(\"Original Data:\")\n",
    "print(df)"
   ]
  },
  {
   "cell_type": "code",
   "execution_count": 4,
   "id": "e5bab8f8-c206-4a26-b51a-e1879b3b61b6",
   "metadata": {},
   "outputs": [
    {
     "name": "stdout",
     "output_type": "stream",
     "text": [
      "    Name  Age  Salary  age_scalled  salrey_scaled\n",
      "0   Amit   22   25000    -1.325688      -1.258434\n",
      "1  Priya   25   30000    -1.083184      -1.129496\n",
      "2  Rahul   47   95000     0.695178       0.546697\n",
      "3  Sneha   52  120000     1.099351       1.191387\n",
      "4  Vivek   46   99000     0.614343       0.649847\n"
     ]
    }
   ],
   "source": [
    "scaler=StandardScaler()\n",
    "df[['age_scalled','salrey_scaled']]=scaler.fit_transform(df[['Age','Salary']])\n",
    "print(df)"
   ]
  },
  {
   "cell_type": "code",
   "execution_count": null,
   "id": "3ffdd486-3b8d-4eec-bab9-6a9f53deb77c",
   "metadata": {},
   "outputs": [],
   "source": []
  }
 ],
 "metadata": {
  "kernelspec": {
   "display_name": "Python 3 (ipykernel)",
   "language": "python",
   "name": "python3"
  },
  "language_info": {
   "codemirror_mode": {
    "name": "ipython",
    "version": 3
   },
   "file_extension": ".py",
   "mimetype": "text/x-python",
   "name": "python",
   "nbconvert_exporter": "python",
   "pygments_lexer": "ipython3",
   "version": "3.13.7"
  }
 },
 "nbformat": 4,
 "nbformat_minor": 5
}
