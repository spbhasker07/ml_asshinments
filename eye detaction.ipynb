{
 "cells": [
  {
   "cell_type": "code",
   "execution_count": 1,
   "id": "f36e3bfd-9c35-4d00-a347-4a6a5f9e109d",
   "metadata": {},
   "outputs": [],
   "source": [
    "import cv2"
   ]
  },
  {
   "cell_type": "code",
   "execution_count": 4,
   "id": "390cda30-0bc1-4d53-9102-8028ed1514cc",
   "metadata": {},
   "outputs": [],
   "source": [
    "img=cv2.imread('239b29e698292d393ef85c7d5dce944c.jpg')\n",
    "eyesDetect=cv2.CascadeClassifier('haarcascade_eye.xml')\n",
    "eyes=eyesDetect.detectMultiScale(img)"
   ]
  },
  {
   "cell_type": "code",
   "execution_count": 6,
   "id": "73403237-b645-4742-822f-e7dacad84635",
   "metadata": {},
   "outputs": [],
   "source": [
    "for (ex,ey,ew,eh) in eyes:\n",
    "    cv2.rectangle(img,(ex,ey),(ex+ew,ey+eh),(0,0,255),5)\n",
    "cv2.imshow(\"Eyes\",img)\n",
    "cv2.waitKey(0)\n",
    "cv2.destroyAllWindows()"
   ]
  },
  {
   "cell_type": "code",
   "execution_count": 12,
   "id": "180a49d0-c9b5-4269-8e19-9af65260ef35",
   "metadata": {},
   "outputs": [],
   "source": [
    "img=cv2.imread('239b29e698292d393ef85c7d5dce944c.jpg')\n",
    "face_classifire=cv2.CascadeClassifier('haarcascade_frontalface_default.xml')\n",
    "faces=face_classifire.detectMultiScale(img)\n",
    "for (x,y,w,h) in faces:\n",
    "    cv2.rectangle(img,(x,y),(x+w,y+h),(0,0,255),2)\n",
    "cv2.imshow('img',img)\n",
    "cv2.waitKey(0)\n",
    "cv2.destroyAllWindows()"
   ]
  },
  {
   "cell_type": "code",
   "execution_count": null,
   "id": "6d0f11c2-8045-47c1-8925-1f25382f19c0",
   "metadata": {},
   "outputs": [],
   "source": []
  }
 ],
 "metadata": {
  "kernelspec": {
   "display_name": "Python 3 (ipykernel)",
   "language": "python",
   "name": "python3"
  },
  "language_info": {
   "codemirror_mode": {
    "name": "ipython",
    "version": 3
   },
   "file_extension": ".py",
   "mimetype": "text/x-python",
   "name": "python",
   "nbconvert_exporter": "python",
   "pygments_lexer": "ipython3",
   "version": "3.13.6"
  }
 },
 "nbformat": 4,
 "nbformat_minor": 5
}
