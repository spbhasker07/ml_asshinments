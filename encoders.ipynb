{
 "cells": [
  {
   "cell_type": "markdown",
   "id": "39a600a6-5d2b-4582-9cd8-c493d222dd81",
   "metadata": {},
   "source": [
    "# Label encoder"
   ]
  },
  {
   "cell_type": "code",
   "execution_count": 1,
   "id": "dcc6f1a1-fcfa-4ccf-b9c8-e15928db4e01",
   "metadata": {},
   "outputs": [],
   "source": [
    "from sklearn.preprocessing import LabelEncoder , OneHotEncoder"
   ]
  },
  {
   "cell_type": "code",
   "execution_count": 2,
   "id": "0a226af3-31c2-4c1e-885d-c55ed35699a4",
   "metadata": {},
   "outputs": [
    {
     "name": "stdout",
     "output_type": "stream",
     "text": [
      "   Gender    City  Salary\n",
      "0    Male   Delhi   60000\n",
      "1  Female  Mumbai   58000\n",
      "2  Female   Delhi   62000\n",
      "3    Male    Pune   61000\n"
     ]
    }
   ],
   "source": [
    "import pandas as pd\n",
    "\n",
    "data = {\n",
    "    'Gender': ['Male', 'Female', 'Female', 'Male'],\n",
    "    'City': ['Delhi', 'Mumbai', 'Delhi', 'Pune'],\n",
    "    'Salary': [60000, 58000, 62000, 61000]\n",
    "}\n",
    "\n",
    "df = pd.DataFrame(data)\n",
    "print(df)\n"
   ]
  },
  {
   "cell_type": "code",
   "execution_count": 3,
   "id": "a5cf105c-8fc9-4b27-8af1-7481a1bcf538",
   "metadata": {},
   "outputs": [
    {
     "name": "stdout",
     "output_type": "stream",
     "text": [
      "   Gender    City  Salary  Gender_Encoded\n",
      "0    Male   Delhi   60000               1\n",
      "1  Female  Mumbai   58000               0\n",
      "2  Female   Delhi   62000               0\n",
      "3    Male    Pune   61000               1\n"
     ]
    }
   ],
   "source": [
    "le=LabelEncoder()\n",
    "df['Gender_Encoded']=le.fit_transform(df['Gender'])\n",
    "print(df)"
   ]
  },
  {
   "cell_type": "markdown",
   "id": "04a5a264-a400-452a-8f09-fe0a8ddf6c0f",
   "metadata": {},
   "source": [
    "# One hot encoder"
   ]
  },
  {
   "cell_type": "code",
   "execution_count": 4,
   "id": "5f072e1b-5ddc-49a9-8299-ba5de0678d0a",
   "metadata": {},
   "outputs": [
    {
     "name": "stdout",
     "output_type": "stream",
     "text": [
      "   Gender    City  Salary  Gender_Encoded  City_Delhi  City_Mumbai  City_Pune\n",
      "0    Male   Delhi   60000               1         1.0          0.0        0.0\n",
      "1  Female  Mumbai   58000               0         0.0          1.0        0.0\n",
      "2  Female   Delhi   62000               0         1.0          0.0        0.0\n",
      "3    Male    Pune   61000               1         0.0          0.0        1.0\n"
     ]
    }
   ],
   "source": [
    "ohe= OneHotEncoder()\n",
    "city_encoded=ohe.fit_transform(df[['City']]).toarray()\n",
    "city_df=pd.DataFrame(city_encoded,columns=ohe.get_feature_names_out(['City']))\n",
    "df=pd.concat([df,city_df],axis=1)\n",
    "print(df)"
   ]
  },
  {
   "cell_type": "code",
   "execution_count": null,
   "id": "35ee2230-1944-405f-8b5c-4ce97856dedc",
   "metadata": {},
   "outputs": [],
   "source": []
  },
  {
   "cell_type": "code",
   "execution_count": null,
   "id": "856c3265-f805-4210-b609-4bdce401e61c",
   "metadata": {},
   "outputs": [],
   "source": []
  },
  {
   "cell_type": "code",
   "execution_count": null,
   "id": "30209080-1225-4d3f-b8b7-95639f5d41c4",
   "metadata": {},
   "outputs": [],
   "source": []
  },
  {
   "cell_type": "code",
   "execution_count": null,
   "id": "5cbf932f-fb5e-4eed-83f3-96e5af4469a3",
   "metadata": {},
   "outputs": [],
   "source": []
  }
 ],
 "metadata": {
  "kernelspec": {
   "display_name": "Python 3 (ipykernel)",
   "language": "python",
   "name": "python3"
  },
  "language_info": {
   "codemirror_mode": {
    "name": "ipython",
    "version": 3
   },
   "file_extension": ".py",
   "mimetype": "text/x-python",
   "name": "python",
   "nbconvert_exporter": "python",
   "pygments_lexer": "ipython3",
   "version": "3.13.7"
  }
 },
 "nbformat": 4,
 "nbformat_minor": 5
}
