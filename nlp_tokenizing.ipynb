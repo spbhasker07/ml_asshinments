{
 "cells": [
  {
   "cell_type": "markdown",
   "id": "42463d2e-6b9e-43f1-871c-8bf55afb9219",
   "metadata": {},
   "source": [
    "# Tokenizing with nltk"
   ]
  },
  {
   "cell_type": "code",
   "execution_count": 1,
   "id": "f06409f5-ff93-4a9b-95c6-712b64f34f22",
   "metadata": {},
   "outputs": [],
   "source": [
    "from nltk.tokenize import sent_tokenize,word_tokenize"
   ]
  },
  {
   "cell_type": "code",
   "execution_count": 2,
   "id": "87e74a2b-f00b-4b8d-a82b-526866225b5f",
   "metadata": {},
   "outputs": [],
   "source": [
    "ex='hello my name, is john ?'"
   ]
  },
  {
   "cell_type": "code",
   "execution_count": 3,
   "id": "72dfe4e4-73fc-4126-aed1-51c1e68649c1",
   "metadata": {},
   "outputs": [
    {
     "data": {
      "text/plain": [
       "['hello', 'my', 'name', ',', 'is', 'john', '?']"
      ]
     },
     "execution_count": 3,
     "metadata": {},
     "output_type": "execute_result"
    }
   ],
   "source": [
    "word_tokenize(ex)"
   ]
  },
  {
   "cell_type": "code",
   "execution_count": 4,
   "id": "95735a81-3469-402f-8c09-450bb3380693",
   "metadata": {},
   "outputs": [],
   "source": [
    "ex1='hello raj! how r u? I am fine. Python is great'"
   ]
  },
  {
   "cell_type": "code",
   "execution_count": 5,
   "id": "ccfc1db3-da2d-4d32-82a8-9bcfb15c5854",
   "metadata": {},
   "outputs": [
    {
     "data": {
      "text/plain": [
       "['hello raj!', 'how r u?', 'I am fine.', 'Python is great']"
      ]
     },
     "execution_count": 5,
     "metadata": {},
     "output_type": "execute_result"
    }
   ],
   "source": [
    "sent_tokenize(ex1)"
   ]
  },
  {
   "cell_type": "code",
   "execution_count": 6,
   "id": "0062f7ec-4097-4357-b3bf-6f3a9f96c829",
   "metadata": {},
   "outputs": [],
   "source": [
    "from nltk.corpus import stopwords\n",
    "from nltk.tokenize import word_tokenize"
   ]
  },
  {
   "cell_type": "code",
   "execution_count": 7,
   "id": "f2fe6f15-6eb1-49fb-a412-226559019aed",
   "metadata": {},
   "outputs": [],
   "source": [
    "example='This is an example for stop words'"
   ]
  },
  {
   "cell_type": "code",
   "execution_count": 8,
   "id": "31d9cb2b-8db9-4cef-a669-17c5aa4949ad",
   "metadata": {},
   "outputs": [],
   "source": [
    "stop_words=set(stopwords.words('english'))"
   ]
  },
  {
   "cell_type": "code",
   "execution_count": 9,
   "id": "e0dafd23-ad33-4821-9ae6-6a8f1829f7f3",
   "metadata": {},
   "outputs": [
    {
     "data": {
      "text/plain": [
       "{'a',\n",
       " 'about',\n",
       " 'above',\n",
       " 'after',\n",
       " 'again',\n",
       " 'against',\n",
       " 'ain',\n",
       " 'all',\n",
       " 'am',\n",
       " 'an',\n",
       " 'and',\n",
       " 'any',\n",
       " 'are',\n",
       " 'aren',\n",
       " \"aren't\",\n",
       " 'as',\n",
       " 'at',\n",
       " 'be',\n",
       " 'because',\n",
       " 'been',\n",
       " 'before',\n",
       " 'being',\n",
       " 'below',\n",
       " 'between',\n",
       " 'both',\n",
       " 'but',\n",
       " 'by',\n",
       " 'can',\n",
       " 'couldn',\n",
       " \"couldn't\",\n",
       " 'd',\n",
       " 'did',\n",
       " 'didn',\n",
       " \"didn't\",\n",
       " 'do',\n",
       " 'does',\n",
       " 'doesn',\n",
       " \"doesn't\",\n",
       " 'doing',\n",
       " 'don',\n",
       " \"don't\",\n",
       " 'down',\n",
       " 'during',\n",
       " 'each',\n",
       " 'few',\n",
       " 'for',\n",
       " 'from',\n",
       " 'further',\n",
       " 'had',\n",
       " 'hadn',\n",
       " \"hadn't\",\n",
       " 'has',\n",
       " 'hasn',\n",
       " \"hasn't\",\n",
       " 'have',\n",
       " 'haven',\n",
       " \"haven't\",\n",
       " 'having',\n",
       " 'he',\n",
       " \"he'd\",\n",
       " \"he'll\",\n",
       " \"he's\",\n",
       " 'her',\n",
       " 'here',\n",
       " 'hers',\n",
       " 'herself',\n",
       " 'him',\n",
       " 'himself',\n",
       " 'his',\n",
       " 'how',\n",
       " 'i',\n",
       " \"i'd\",\n",
       " \"i'll\",\n",
       " \"i'm\",\n",
       " \"i've\",\n",
       " 'if',\n",
       " 'in',\n",
       " 'into',\n",
       " 'is',\n",
       " 'isn',\n",
       " \"isn't\",\n",
       " 'it',\n",
       " \"it'd\",\n",
       " \"it'll\",\n",
       " \"it's\",\n",
       " 'its',\n",
       " 'itself',\n",
       " 'just',\n",
       " 'll',\n",
       " 'm',\n",
       " 'ma',\n",
       " 'me',\n",
       " 'mightn',\n",
       " \"mightn't\",\n",
       " 'more',\n",
       " 'most',\n",
       " 'mustn',\n",
       " \"mustn't\",\n",
       " 'my',\n",
       " 'myself',\n",
       " 'needn',\n",
       " \"needn't\",\n",
       " 'no',\n",
       " 'nor',\n",
       " 'not',\n",
       " 'now',\n",
       " 'o',\n",
       " 'of',\n",
       " 'off',\n",
       " 'on',\n",
       " 'once',\n",
       " 'only',\n",
       " 'or',\n",
       " 'other',\n",
       " 'our',\n",
       " 'ours',\n",
       " 'ourselves',\n",
       " 'out',\n",
       " 'over',\n",
       " 'own',\n",
       " 're',\n",
       " 's',\n",
       " 'same',\n",
       " 'shan',\n",
       " \"shan't\",\n",
       " 'she',\n",
       " \"she'd\",\n",
       " \"she'll\",\n",
       " \"she's\",\n",
       " 'should',\n",
       " \"should've\",\n",
       " 'shouldn',\n",
       " \"shouldn't\",\n",
       " 'so',\n",
       " 'some',\n",
       " 'such',\n",
       " 't',\n",
       " 'than',\n",
       " 'that',\n",
       " \"that'll\",\n",
       " 'the',\n",
       " 'their',\n",
       " 'theirs',\n",
       " 'them',\n",
       " 'themselves',\n",
       " 'then',\n",
       " 'there',\n",
       " 'these',\n",
       " 'they',\n",
       " \"they'd\",\n",
       " \"they'll\",\n",
       " \"they're\",\n",
       " \"they've\",\n",
       " 'this',\n",
       " 'those',\n",
       " 'through',\n",
       " 'to',\n",
       " 'too',\n",
       " 'under',\n",
       " 'until',\n",
       " 'up',\n",
       " 've',\n",
       " 'very',\n",
       " 'was',\n",
       " 'wasn',\n",
       " \"wasn't\",\n",
       " 'we',\n",
       " \"we'd\",\n",
       " \"we'll\",\n",
       " \"we're\",\n",
       " \"we've\",\n",
       " 'were',\n",
       " 'weren',\n",
       " \"weren't\",\n",
       " 'what',\n",
       " 'when',\n",
       " 'where',\n",
       " 'which',\n",
       " 'while',\n",
       " 'who',\n",
       " 'whom',\n",
       " 'why',\n",
       " 'will',\n",
       " 'with',\n",
       " 'won',\n",
       " \"won't\",\n",
       " 'wouldn',\n",
       " \"wouldn't\",\n",
       " 'y',\n",
       " 'you',\n",
       " \"you'd\",\n",
       " \"you'll\",\n",
       " \"you're\",\n",
       " \"you've\",\n",
       " 'your',\n",
       " 'yours',\n",
       " 'yourself',\n",
       " 'yourselves'}"
      ]
     },
     "execution_count": 9,
     "metadata": {},
     "output_type": "execute_result"
    }
   ],
   "source": [
    "stop_words"
   ]
  },
  {
   "cell_type": "code",
   "execution_count": 10,
   "id": "2b75ea35-538a-4074-bc9e-7691a056804e",
   "metadata": {},
   "outputs": [],
   "source": [
    "words=word_tokenize(example)"
   ]
  },
  {
   "cell_type": "code",
   "execution_count": 11,
   "id": "038c871c-2803-4bf5-866d-6741745a12a9",
   "metadata": {},
   "outputs": [
    {
     "data": {
      "text/plain": [
       "['This', 'is', 'an', 'example', 'for', 'stop', 'words']"
      ]
     },
     "execution_count": 11,
     "metadata": {},
     "output_type": "execute_result"
    }
   ],
   "source": [
    "words"
   ]
  },
  {
   "cell_type": "code",
   "execution_count": 12,
   "id": "60cdb28d-ecec-432d-acbc-810e045534a2",
   "metadata": {},
   "outputs": [],
   "source": [
    "filtered_sentence=[w for w in words if not w.lower() in stop_words]"
   ]
  },
  {
   "cell_type": "code",
   "execution_count": 13,
   "id": "9a55bb25-2a21-4147-aa81-b9461ca83b76",
   "metadata": {},
   "outputs": [
    {
     "data": {
      "text/plain": [
       "['example', 'stop', 'words']"
      ]
     },
     "execution_count": 13,
     "metadata": {},
     "output_type": "execute_result"
    }
   ],
   "source": [
    "filtered_sentence"
   ]
  },
  {
   "cell_type": "markdown",
   "id": "81d0d240-6f1c-449f-839c-4aa3147c78f2",
   "metadata": {},
   "source": [
    "# Stemming with nltk"
   ]
  },
  {
   "cell_type": "code",
   "execution_count": 15,
   "id": "a5a1d2aa-f3e1-4ea2-8f0b-f71814fb88b1",
   "metadata": {},
   "outputs": [],
   "source": [
    "from nltk.stem import PorterStemmer"
   ]
  },
  {
   "cell_type": "code",
   "execution_count": 16,
   "id": "a265fadd-7a7e-4b8e-aae4-a9ecaad0c9cb",
   "metadata": {},
   "outputs": [],
   "source": [
    "ps=PorterStemmer()"
   ]
  },
  {
   "cell_type": "code",
   "execution_count": 17,
   "id": "b5ef92c2-6040-41b9-9d26-b9d120d51c02",
   "metadata": {},
   "outputs": [],
   "source": [
    "ex=['waiting','playing','played']"
   ]
  },
  {
   "cell_type": "code",
   "execution_count": 18,
   "id": "33d10479-1aaf-43d9-8695-0a36cd3290db",
   "metadata": {},
   "outputs": [
    {
     "name": "stdout",
     "output_type": "stream",
     "text": [
      "wait\n",
      "play\n",
      "play\n"
     ]
    }
   ],
   "source": [
    "for i in ex:\n",
    "    print(ps.stem(i))"
   ]
  },
  {
   "cell_type": "code",
   "execution_count": 19,
   "id": "6b824bb0-0c7b-4232-8d19-3b55a0eeea65",
   "metadata": {},
   "outputs": [],
   "source": [
    "example_words=['python','pythoner','pythoning','pythoned','pythonly']"
   ]
  },
  {
   "cell_type": "code",
   "execution_count": 20,
   "id": "72903c42-de0b-4f4a-b00c-e7d181bdb615",
   "metadata": {},
   "outputs": [
    {
     "name": "stdout",
     "output_type": "stream",
     "text": [
      "This : thi\n",
      "is : is\n",
      "an : an\n",
      "example : exampl\n",
      "for : for\n",
      "stop : stop\n",
      "words : word\n"
     ]
    }
   ],
   "source": [
    "for w in words:\n",
    "    print(w,\":\",ps.stem(w))"
   ]
  },
  {
   "cell_type": "code",
   "execution_count": 21,
   "id": "7e653d95-f7cf-466f-a6ff-18081cabe631",
   "metadata": {},
   "outputs": [],
   "source": [
    "sentence='Prograers program with programing language'\n",
    "words=word_tokenize(sentence)"
   ]
  },
  {
   "cell_type": "code",
   "execution_count": 23,
   "id": "a8639e33-d902-4332-b1a8-7202a10117de",
   "metadata": {},
   "outputs": [
    {
     "name": "stdout",
     "output_type": "stream",
     "text": [
      "Prograers : prograer\n",
      "program : program\n",
      "with : with\n",
      "programing : program\n",
      "language : languag\n"
     ]
    }
   ],
   "source": [
    "for w in words:\n",
    "    print(w,\":\",ps.stem(w))"
   ]
  },
  {
   "cell_type": "code",
   "execution_count": null,
   "id": "b16791a4-7123-464a-b4c9-d9d30d3990ca",
   "metadata": {},
   "outputs": [],
   "source": []
  }
 ],
 "metadata": {
  "kernelspec": {
   "display_name": "Python 3 (ipykernel)",
   "language": "python",
   "name": "python3"
  },
  "language_info": {
   "codemirror_mode": {
    "name": "ipython",
    "version": 3
   },
   "file_extension": ".py",
   "mimetype": "text/x-python",
   "name": "python",
   "nbconvert_exporter": "python",
   "pygments_lexer": "ipython3",
   "version": "3.13.6"
  }
 },
 "nbformat": 4,
 "nbformat_minor": 5
}
