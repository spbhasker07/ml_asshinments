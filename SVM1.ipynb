{
 "cells": [
  {
   "cell_type": "code",
   "execution_count": 1,
   "id": "c1940581-367e-4303-b6fa-4a2095d70416",
   "metadata": {},
   "outputs": [],
   "source": [
    "import numpy as np\n",
    "import pandas as pd\n",
    "import matplotlib.pyplot as plt\n",
    "import seaborn as sb"
   ]
  },
  {
   "cell_type": "code",
   "execution_count": 2,
   "id": "ba99f4a0-80a4-436a-9e5d-ecdecb71eaa4",
   "metadata": {},
   "outputs": [],
   "source": [
    "df=pd.read_csv('fruits_svc.csv')"
   ]
  },
  {
   "cell_type": "code",
   "execution_count": 3,
   "id": "929edbb2-c3ce-4542-ab1c-2f669ce32fe8",
   "metadata": {},
   "outputs": [
    {
     "data": {
      "text/plain": [
       "<Axes: xlabel='diameter', ylabel='weight'>"
      ]
     },
     "execution_count": 3,
     "metadata": {},
     "output_type": "execute_result"
    },
    {
     "data": {
      "image/png": "[encoded data removed]",
      "text/plain": [
       "<Figure size 640x480 with 1 Axes>"
      ]
     },
     "metadata": {},
     "output_type": "display_data"
    }
   ],
   "source": [
    "sb.scatterplot(x=df.diameter,y=df.weight,hue=df.FruitName)"
   ]
  },
  {
   "cell_type": "code",
   "execution_count": 4,
   "id": "cd4dcc8e-244e-428d-b2b8-788db70510c4",
   "metadata": {},
   "outputs": [],
   "source": [
    "x=df.iloc[:,:-1].values\n",
    "y=df.iloc[:,-1].values"
   ]
  },
  {
   "cell_type": "code",
   "execution_count": 5,
   "id": "636cffbd-56eb-41e4-9cc3-0247eb673e72",
   "metadata": {},
   "outputs": [],
   "source": [
    "from sklearn.svm import SVC\n",
    "from sklearn.model_selection import cross_val_score"
   ]
  },
  {
   "cell_type": "code",
   "execution_count": 6,
   "id": "b1111a1f-04a2-40fc-85ed-4b3aa43bb2f2",
   "metadata": {},
   "outputs": [],
   "source": [
    "c=1.0"
   ]
  },
  {
   "cell_type": "code",
   "execution_count": 7,
   "id": "4d5ad07f-9e0a-4080-ad2c-575e1531a782",
   "metadata": {},
   "outputs": [
    {
     "name": "stdout",
     "output_type": "stream",
     "text": [
      "0.6900000000000001\n"
     ]
    }
   ],
   "source": [
    "model = SVC(kernel='linear', decision_function_shape='ovo', C=0.5)\n",
    "print(cross_val_score(model, x, y, cv=5).mean())"
   ]
  },
  {
   "cell_type": "code",
   "execution_count": 8,
   "id": "e7ae6358-bd89-473b-823b-a0f76a483e9f",
   "metadata": {},
   "outputs": [
    {
     "name": "stdout",
     "output_type": "stream",
     "text": [
      "0.73\n"
     ]
    }
   ],
   "source": [
    "model = SVC(kernel='poly', degree=7,probability=True,C=c)\n",
    "print(cross_val_score(model, x, y, cv=5).mean())"
   ]
  },
  {
   "cell_type": "code",
   "execution_count": 9,
   "id": "9adcb814-62e5-4922-93c4-2db53c5fb71f",
   "metadata": {},
   "outputs": [
    {
     "name": "stdout",
     "output_type": "stream",
     "text": [
      "0.73\n"
     ]
    }
   ],
   "source": [
    "model = SVC(kernel='rbf',probability=True,C=c,gamma=.4)\n",
    "print(cross_val_score(model, x, y, cv=5).mean())"
   ]
  },
  {
   "cell_type": "code",
   "execution_count": 10,
   "id": "7a4d023e-943e-4f75-b011-9310ecfd6ad9",
   "metadata": {},
   "outputs": [
    {
     "name": "stdout",
     "output_type": "stream",
     "text": [
      "0.54\n"
     ]
    }
   ],
   "source": [
    "model = SVC(kernel='sigmoid',probability=True,C=c)\n",
    "print(cross_val_score(model, x, y, cv=5).mean())"
   ]
  },
  {
   "cell_type": "markdown",
   "id": "807c4d02-1c7f-436d-9f16-3f9674654e36",
   "metadata": {},
   "source": [
    "# non liner seprable data using svm"
   ]
  },
  {
   "cell_type": "markdown",
   "id": "a5583ba8-86f5-4cba-9c69-afd0eeab4091",
   "metadata": {},
   "source": [
    "# c and gamma use when model accuracy down "
   ]
  },
  {
   "cell_type": "code",
   "execution_count": 11,
   "id": "0f6f5463-017c-44db-860a-071c53ea1783",
   "metadata": {},
   "outputs": [],
   "source": [
    "from sklearn.datasets import load_iris"
   ]
  },
  {
   "cell_type": "code",
   "execution_count": 12,
   "id": "0012276b-0056-4aa1-9935-491b5941ce69",
   "metadata": {},
   "outputs": [],
   "source": [
    "iris=load_iris()"
   ]
  },
  {
   "cell_type": "code",
   "execution_count": 13,
   "id": "573d00d6-b193-4e85-baf8-0647f8cde52d",
   "metadata": {},
   "outputs": [],
   "source": [
    "x=iris.data\n",
    "y=iris.target"
   ]
  },
  {
   "cell_type": "code",
   "execution_count": 14,
   "id": "f3ab93b2-bdfb-4189-aac4-2abdea79a9a0",
   "metadata": {},
   "outputs": [
    {
     "name": "stdout",
     "output_type": "stream",
     "text": [
      "0.9866666666666667\n"
     ]
    }
   ],
   "source": [
    "model = SVC(kernel='linear', decision_function_shape='ovo', C=.5)\n",
    "print(cross_val_score(model, x, y, cv=5).mean())"
   ]
  },
  {
   "cell_type": "code",
   "execution_count": 15,
   "id": "043a181c-a02c-4ee3-a2e8-699c68e92b67",
   "metadata": {},
   "outputs": [
    {
     "name": "stdout",
     "output_type": "stream",
     "text": [
      "0.9733333333333334\n"
     ]
    }
   ],
   "source": [
    "model = SVC(kernel='poly',decision_function_shape='ovr',C=.5)\n",
    "print(cross_val_score(model, x, y, cv=5).mean())"
   ]
  },
  {
   "cell_type": "code",
   "execution_count": 16,
   "id": "93d699e1-67b1-4c43-b5a0-204713efc3db",
   "metadata": {},
   "outputs": [
    {
     "name": "stdout",
     "output_type": "stream",
     "text": [
      "0.9666666666666666\n"
     ]
    }
   ],
   "source": [
    "model = SVC(kernel='rbf',decision_function_shape='ovo')\n",
    "print(cross_val_score(model, x, y, cv=5).mean())"
   ]
  },
  {
   "cell_type": "code",
   "execution_count": 17,
   "id": "f723d330-95da-4d16-bc6c-cdeac89e6444",
   "metadata": {},
   "outputs": [
    {
     "name": "stdout",
     "output_type": "stream",
     "text": [
      "0.9666666666666666\n"
     ]
    }
   ],
   "source": [
    "model = SVC(kernel='rbf',decision_function_shape='ovr')\n",
    "print(cross_val_score(model, x, y, cv=5).mean())"
   ]
  },
  {
   "cell_type": "code",
   "execution_count": null,
   "id": "54dd30c1-166c-49d2-9871-662988d0f9de",
   "metadata": {},
   "outputs": [],
   "source": []
  }
 ],
 "metadata": {
  "kernelspec": {
   "display_name": "Python 3 (ipykernel)",
   "language": "python",
   "name": "python3"
  },
  "language_info": {
   "codemirror_mode": {
    "name": "ipython",
    "version": 3
   },
   "file_extension": ".py",
   "mimetype": "text/x-python",
   "name": "python",
   "nbconvert_exporter": "python",
   "pygments_lexer": "ipython3",
   "version": "3.13.6"
  }
 },
 "nbformat": 4,
 "nbformat_minor": 5
}
