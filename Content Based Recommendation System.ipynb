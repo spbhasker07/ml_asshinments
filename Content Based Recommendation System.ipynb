{
 "cells": [
  {
   "cell_type": "markdown",
   "id": "ea04c83d-16da-4ee6-bcd4-c51e44cccc3d",
   "metadata": {},
   "source": [
    "# Association :-\n",
    "- ##### We find similarity of samples with all other samples.\n",
    "- ##### Generally cosine similarity is used for this score.\n",
    "- ##### Recommendation System is the best example of Association."
   ]
  },
  {
   "cell_type": "code",
   "execution_count": 1,
   "id": "a710bd53-201f-4b55-a2d2-8092942788e3",
   "metadata": {},
   "outputs": [],
   "source": [
    "s1=\"python is a programming language\"\n",
    "s2=\"rohit sharma is a cricketer\"\n",
    "s3=\"java is also a programming language\""
   ]
  },
  {
   "cell_type": "code",
   "execution_count": 2,
   "id": "1dce935c-0967-46b6-94ce-23ad3e210e3d",
   "metadata": {},
   "outputs": [],
   "source": [
    "from sklearn.feature_extraction.text import TfidfVectorizer"
   ]
  },
  {
   "cell_type": "code",
   "execution_count": 3,
   "id": "7d0673ee-fafa-4486-a1e0-95d0a2d15a0d",
   "metadata": {},
   "outputs": [
    {
     "data": {
      "text/plain": [
       "array([[0.        , 0.        , 0.37311881, 0.        , 0.4804584 ,\n",
       "        0.4804584 , 0.63174505, 0.        , 0.        ],\n",
       "       [0.        , 0.54645401, 0.32274454, 0.        , 0.        ,\n",
       "        0.        , 0.        , 0.54645401, 0.54645401],\n",
       "       [0.53409337, 0.        , 0.31544415, 0.53409337, 0.40619178,\n",
       "        0.40619178, 0.        , 0.        , 0.        ]])"
      ]
     },
     "execution_count": 3,
     "metadata": {},
     "output_type": "execute_result"
    }
   ],
   "source": [
    "tfv=TfidfVectorizer()\n",
    "matrix=tfv.fit_transform([s1,s2,s3]).toarray()\n",
    "matrix"
   ]
  },
  {
   "cell_type": "code",
   "execution_count": 4,
   "id": "b42101c4-1b13-4bc0-ba61-7631e7482a56",
   "metadata": {},
   "outputs": [],
   "source": [
    "from sklearn.metrics.pairwise import cosine_similarity"
   ]
  },
  {
   "cell_type": "code",
   "execution_count": 5,
   "id": "63a0fd64-0534-4f4c-9847-85f5af9c666c",
   "metadata": {},
   "outputs": [
    {
     "data": {
      "text/plain": [
       "array([[1.        , 0.12042206, 0.50801465],\n",
       "       [0.12042206, 1.        , 0.10180788],\n",
       "       [0.50801465, 0.10180788, 1.        ]])"
      ]
     },
     "execution_count": 5,
     "metadata": {},
     "output_type": "execute_result"
    }
   ],
   "source": [
    "cosine_similarity(matrix)"
   ]
  },
  {
   "cell_type": "code",
   "execution_count": 6,
   "id": "a8dfe1e1-8a75-4768-9b21-09a63f3c5753",
   "metadata": {},
   "outputs": [],
   "source": [
    "from sklearn.metrics.pairwise import cosine_distances"
   ]
  },
  {
   "cell_type": "code",
   "execution_count": 7,
   "id": "0f33a14c-ba79-46a6-94a8-571641a94062",
   "metadata": {},
   "outputs": [
    {
     "data": {
      "text/plain": [
       "array([[0.        , 0.87957794, 0.49198535],\n",
       "       [0.87957794, 0.        , 0.89819212],\n",
       "       [0.49198535, 0.89819212, 0.        ]])"
      ]
     },
     "execution_count": 7,
     "metadata": {},
     "output_type": "execute_result"
    }
   ],
   "source": [
    "cosine_distances(matrix)"
   ]
  },
  {
   "cell_type": "code",
   "execution_count": null,
   "id": "a66871af-d7cb-4422-927e-237de29eaa8c",
   "metadata": {},
   "outputs": [],
   "source": []
  },
  {
   "cell_type": "markdown",
   "id": "ec34e3f7-8d3f-4dd6-98ca-c6b04b51372e",
   "metadata": {},
   "source": [
    "# Content Based Recommendation System :-"
   ]
  },
  {
   "cell_type": "code",
   "execution_count": 8,
   "id": "d056936c-afd8-4205-836a-d19353f941fc",
   "metadata": {},
   "outputs": [],
   "source": [
    "import pandas as pd"
   ]
  },
  {
   "cell_type": "code",
   "execution_count": 9,
   "id": "f28afe2b-2724-41ac-8e2b-b36aa1e9650d",
   "metadata": {},
   "outputs": [
    {
     "data": {
      "text/html": [
       "<div>\n",
       "<style scoped>\n",
       "    .dataframe tbody tr th:only-of-type {\n",
       "        vertical-align: middle;\n",
       "    }\n",
       "\n",
       "    .dataframe tbody tr th {\n",
       "        vertical-align: top;\n",
       "    }\n",
       "\n",
       "    .dataframe thead th {\n",
       "        text-align: right;\n",
       "    }\n",
       "</style>\n",
       "<table border=\"1\" class=\"dataframe\">\n",
       "  <thead>\n",
       "    <tr style=\"text-align: right;\">\n",
       "      <th></th>\n",
       "      <th>movie_id</th>\n",
       "      <th>description</th>\n",
       "      <th>language</th>\n",
       "      <th>released</th>\n",
       "      <th>rating</th>\n",
       "      <th>writer</th>\n",
       "      <th>director</th>\n",
       "      <th>cast</th>\n",
       "      <th>genre</th>\n",
       "      <th>name</th>\n",
       "    </tr>\n",
       "  </thead>\n",
       "  <tbody>\n",
       "    <tr>\n",
       "      <th>0</th>\n",
       "      <td>tt5286444</td>\n",
       "      <td>Neerja is the story of the courageous Neerja B...</td>\n",
       "      <td>[ \"Hindi\" ]</td>\n",
       "      <td>2016-02-19T00:00:00.000Z</td>\n",
       "      <td>7.9</td>\n",
       "      <td>[ \"Saiwyn Quadras\", \"Sanyukta Shaikh Chawla\" ]</td>\n",
       "      <td>[ \"Ram Madhvani\" ]</td>\n",
       "      <td>[ \"Sonam Kapoor\", \"Shabana Azmi\", \"Yogendra Ti...</td>\n",
       "      <td>[ \"Biography\", \"Drama\", \"Thriller\" ]</td>\n",
       "      <td>Neerja</td>\n",
       "    </tr>\n",
       "    <tr>\n",
       "      <th>1</th>\n",
       "      <td>tt4434004</td>\n",
       "      <td>A story that revolves around drug abuse in the...</td>\n",
       "      <td>[ \"Hindi\", \"Panjabi\" ]</td>\n",
       "      <td>2016-06-17T00:00:00.000Z</td>\n",
       "      <td>7.9</td>\n",
       "      <td>[ \"Sudip Sharma\", \"Abhishek Chaubey\" ]</td>\n",
       "      <td>[ \"Abhishek Chaubey\" ]</td>\n",
       "      <td>[ \"Alia Bhatt\", \"Shahid Kapoor\", \"Diljit Dosan...</td>\n",
       "      <td>[ \"Crime\", \"Drama\", \"Thriller\" ]</td>\n",
       "      <td>Udta Punjab</td>\n",
       "    </tr>\n",
       "    <tr>\n",
       "      <th>2</th>\n",
       "      <td>tt0248126</td>\n",
       "      <td>Yashvardhan Raichand lives a very wealthy life...</td>\n",
       "      <td>[ \"Hindi\", \"English\", \"Urdu\" ]</td>\n",
       "      <td>2001-12-14T00:00:00.000Z</td>\n",
       "      <td>7.5</td>\n",
       "      <td>[ \"Karan Johar\", \"Sheena Parikh\" ]</td>\n",
       "      <td>[ \"Karan Johar\" ]</td>\n",
       "      <td>[ \"Amitabh Bachchan\", \"Jaya Bhaduri\", \"Shah Ru...</td>\n",
       "      <td>[ \"Drama\", \"Musical\", \"Romance\" ]</td>\n",
       "      <td>Kabhi Khushi Kabhie Gham...</td>\n",
       "    </tr>\n",
       "    <tr>\n",
       "      <th>3</th>\n",
       "      <td>tt0347304</td>\n",
       "      <td>Naina, an introverted, perpetually depressed g...</td>\n",
       "      <td>[ \"Hindi\", \"Urdu\", \"Gujarati\", \"Panjabi\" ]</td>\n",
       "      <td>2003-11-28T00:00:00.000Z</td>\n",
       "      <td>8.0</td>\n",
       "      <td>[ \"Niranjan Iyengar\", \"Karan Johar\" ]</td>\n",
       "      <td>[ \"Nikkhil Advani\" ]</td>\n",
       "      <td>[ \"Shah Rukh Khan\", \"Preity Zinta\", \"Saif Ali ...</td>\n",
       "      <td>[ \"Comedy\", \"Drama\", \"Romance\" ]</td>\n",
       "      <td>Kal Ho Naa Ho</td>\n",
       "    </tr>\n",
       "    <tr>\n",
       "      <th>4</th>\n",
       "      <td>tt3043252</td>\n",
       "      <td>'Parched' is a story about women set in the he...</td>\n",
       "      <td>[ \"Hindi\", \"English\" ]</td>\n",
       "      <td>2016-06-17T00:00:00.000Z</td>\n",
       "      <td>7.6</td>\n",
       "      <td>[ \"Supratik Sen\", \"Leena Yadav\" ]</td>\n",
       "      <td>[ \"Leena Yadav\" ]</td>\n",
       "      <td>[ \"Tannishtha Chatterjee\", \"Radhika Apte\", \"Le...</td>\n",
       "      <td>[ \"Drama\" ]</td>\n",
       "      <td>Parched</td>\n",
       "    </tr>\n",
       "    <tr>\n",
       "      <th>...</th>\n",
       "      <td>...</td>\n",
       "      <td>...</td>\n",
       "      <td>...</td>\n",
       "      <td>...</td>\n",
       "      <td>...</td>\n",
       "      <td>...</td>\n",
       "      <td>...</td>\n",
       "      <td>...</td>\n",
       "      <td>...</td>\n",
       "      <td>...</td>\n",
       "    </tr>\n",
       "    <tr>\n",
       "      <th>2845</th>\n",
       "      <td>tt0308793</td>\n",
       "      <td>NaN</td>\n",
       "      <td>[ \"Kannada\" ]</td>\n",
       "      <td>NaN</td>\n",
       "      <td>7.7</td>\n",
       "      <td>[]</td>\n",
       "      <td>[ \"V. Ravichandran\" ]</td>\n",
       "      <td>[ \"V. Ravichandran\", \"Kushboo\", \"Anant Nag\", \"...</td>\n",
       "      <td>[ \"Crime\" ]</td>\n",
       "      <td>Ranadheera</td>\n",
       "    </tr>\n",
       "    <tr>\n",
       "      <th>2846</th>\n",
       "      <td>tt3006508</td>\n",
       "      <td>NaN</td>\n",
       "      <td>[ \"Kannada\" ]</td>\n",
       "      <td>2013-02-22</td>\n",
       "      <td>7.7</td>\n",
       "      <td>[]</td>\n",
       "      <td>[ \"Nagashekar\" ]</td>\n",
       "      <td>[ \"Chethan Kumar\", \"Nithya Menon\", \"Sarath Kum...</td>\n",
       "      <td>[ \"Romance\" ]</td>\n",
       "      <td>Myna</td>\n",
       "    </tr>\n",
       "    <tr>\n",
       "      <th>2847</th>\n",
       "      <td>tt5348692</td>\n",
       "      <td>The plot is simple. Ranganna (Rangayana Raghu)...</td>\n",
       "      <td>[ \"Kannada\" ]</td>\n",
       "      <td>2013-11-29</td>\n",
       "      <td>7.7</td>\n",
       "      <td>[ \"Pc Shekhar\" ]</td>\n",
       "      <td>[ \"Pc Shekhar\" ]</td>\n",
       "      <td>[ \"Rangayana Raghu\", \"Sadhu Kokila\", \"Avinash\" ]</td>\n",
       "      <td>[ \"Comedy\", \"Drama\" ]</td>\n",
       "      <td>Chaddi Dosth</td>\n",
       "    </tr>\n",
       "    <tr>\n",
       "      <th>2848</th>\n",
       "      <td>tt3171754</td>\n",
       "      <td>NaN</td>\n",
       "      <td>[ \"Kannada\" ]</td>\n",
       "      <td>2013-12-27</td>\n",
       "      <td>7.6</td>\n",
       "      <td>[]</td>\n",
       "      <td>[ \"Manju Swaraj\" ]</td>\n",
       "      <td>[ \"Ganesh\", \"Amulya\", \"Anant Nag\", \"Tara\", \"Av...</td>\n",
       "      <td>[ \"Comedy\", \"Romance\" ]</td>\n",
       "      <td>Shravani Subramanya</td>\n",
       "    </tr>\n",
       "    <tr>\n",
       "      <th>2849</th>\n",
       "      <td>tt0231455</td>\n",
       "      <td>NaN</td>\n",
       "      <td>[ \"Kannada\" ]</td>\n",
       "      <td>NaN</td>\n",
       "      <td>7.5</td>\n",
       "      <td>[]</td>\n",
       "      <td>[ \"S.R. Puttana Kanagal\" ]</td>\n",
       "      <td>[]</td>\n",
       "      <td>[]</td>\n",
       "      <td>Dharmasere</td>\n",
       "    </tr>\n",
       "  </tbody>\n",
       "</table>\n",
       "<p>2850 rows × 10 columns</p>\n",
       "</div>"
      ],
      "text/plain": [
       "       movie_id                                        description  \\\n",
       "0     tt5286444  Neerja is the story of the courageous Neerja B...   \n",
       "1     tt4434004  A story that revolves around drug abuse in the...   \n",
       "2     tt0248126  Yashvardhan Raichand lives a very wealthy life...   \n",
       "3     tt0347304  Naina, an introverted, perpetually depressed g...   \n",
       "4     tt3043252  'Parched' is a story about women set in the he...   \n",
       "...         ...                                                ...   \n",
       "2845  tt0308793                                                NaN   \n",
       "2846  tt3006508                                                NaN   \n",
       "2847  tt5348692  The plot is simple. Ranganna (Rangayana Raghu)...   \n",
       "2848  tt3171754                                                NaN   \n",
       "2849  tt0231455                                                NaN   \n",
       "\n",
       "                                        language                  released  \\\n",
       "0                                    [ \"Hindi\" ]  2016-02-19T00:00:00.000Z   \n",
       "1                         [ \"Hindi\", \"Panjabi\" ]  2016-06-17T00:00:00.000Z   \n",
       "2                 [ \"Hindi\", \"English\", \"Urdu\" ]  2001-12-14T00:00:00.000Z   \n",
       "3     [ \"Hindi\", \"Urdu\", \"Gujarati\", \"Panjabi\" ]  2003-11-28T00:00:00.000Z   \n",
       "4                         [ \"Hindi\", \"English\" ]  2016-06-17T00:00:00.000Z   \n",
       "...                                          ...                       ...   \n",
       "2845                               [ \"Kannada\" ]                       NaN   \n",
       "2846                               [ \"Kannada\" ]                2013-02-22   \n",
       "2847                               [ \"Kannada\" ]                2013-11-29   \n",
       "2848                               [ \"Kannada\" ]                2013-12-27   \n",
       "2849                               [ \"Kannada\" ]                       NaN   \n",
       "\n",
       "      rating                                          writer  \\\n",
       "0        7.9  [ \"Saiwyn Quadras\", \"Sanyukta Shaikh Chawla\" ]   \n",
       "1        7.9          [ \"Sudip Sharma\", \"Abhishek Chaubey\" ]   \n",
       "2        7.5              [ \"Karan Johar\", \"Sheena Parikh\" ]   \n",
       "3        8.0           [ \"Niranjan Iyengar\", \"Karan Johar\" ]   \n",
       "4        7.6               [ \"Supratik Sen\", \"Leena Yadav\" ]   \n",
       "...      ...                                             ...   \n",
       "2845     7.7                                              []   \n",
       "2846     7.7                                              []   \n",
       "2847     7.7                                [ \"Pc Shekhar\" ]   \n",
       "2848     7.6                                              []   \n",
       "2849     7.5                                              []   \n",
       "\n",
       "                        director  \\\n",
       "0             [ \"Ram Madhvani\" ]   \n",
       "1         [ \"Abhishek Chaubey\" ]   \n",
       "2              [ \"Karan Johar\" ]   \n",
       "3           [ \"Nikkhil Advani\" ]   \n",
       "4              [ \"Leena Yadav\" ]   \n",
       "...                          ...   \n",
       "2845       [ \"V. Ravichandran\" ]   \n",
       "2846            [ \"Nagashekar\" ]   \n",
       "2847            [ \"Pc Shekhar\" ]   \n",
       "2848          [ \"Manju Swaraj\" ]   \n",
       "2849  [ \"S.R. Puttana Kanagal\" ]   \n",
       "\n",
       "                                                   cast  \\\n",
       "0     [ \"Sonam Kapoor\", \"Shabana Azmi\", \"Yogendra Ti...   \n",
       "1     [ \"Alia Bhatt\", \"Shahid Kapoor\", \"Diljit Dosan...   \n",
       "2     [ \"Amitabh Bachchan\", \"Jaya Bhaduri\", \"Shah Ru...   \n",
       "3     [ \"Shah Rukh Khan\", \"Preity Zinta\", \"Saif Ali ...   \n",
       "4     [ \"Tannishtha Chatterjee\", \"Radhika Apte\", \"Le...   \n",
       "...                                                 ...   \n",
       "2845  [ \"V. Ravichandran\", \"Kushboo\", \"Anant Nag\", \"...   \n",
       "2846  [ \"Chethan Kumar\", \"Nithya Menon\", \"Sarath Kum...   \n",
       "2847   [ \"Rangayana Raghu\", \"Sadhu Kokila\", \"Avinash\" ]   \n",
       "2848  [ \"Ganesh\", \"Amulya\", \"Anant Nag\", \"Tara\", \"Av...   \n",
       "2849                                                 []   \n",
       "\n",
       "                                     genre                         name  \n",
       "0     [ \"Biography\", \"Drama\", \"Thriller\" ]                       Neerja  \n",
       "1         [ \"Crime\", \"Drama\", \"Thriller\" ]                  Udta Punjab  \n",
       "2        [ \"Drama\", \"Musical\", \"Romance\" ]  Kabhi Khushi Kabhie Gham...  \n",
       "3         [ \"Comedy\", \"Drama\", \"Romance\" ]                Kal Ho Naa Ho  \n",
       "4                              [ \"Drama\" ]                      Parched  \n",
       "...                                    ...                          ...  \n",
       "2845                           [ \"Crime\" ]                   Ranadheera  \n",
       "2846                         [ \"Romance\" ]                         Myna  \n",
       "2847                 [ \"Comedy\", \"Drama\" ]                 Chaddi Dosth  \n",
       "2848               [ \"Comedy\", \"Romance\" ]          Shravani Subramanya  \n",
       "2849                                    []                   Dharmasere  \n",
       "\n",
       "[2850 rows x 10 columns]"
      ]
     },
     "execution_count": 9,
     "metadata": {},
     "output_type": "execute_result"
    }
   ],
   "source": [
    "df=pd.read_csv('dataset/movies_content.csv')\n",
    "\n",
    "df"
   ]
  },
  {
   "cell_type": "code",
   "execution_count": 10,
   "id": "699b7f4d-c95b-439a-a92f-0b1661751233",
   "metadata": {},
   "outputs": [
    {
     "data": {
      "text/html": [
       "<div>\n",
       "<style scoped>\n",
       "    .dataframe tbody tr th:only-of-type {\n",
       "        vertical-align: middle;\n",
       "    }\n",
       "\n",
       "    .dataframe tbody tr th {\n",
       "        vertical-align: top;\n",
       "    }\n",
       "\n",
       "    .dataframe thead th {\n",
       "        text-align: right;\n",
       "    }\n",
       "</style>\n",
       "<table border=\"1\" class=\"dataframe\">\n",
       "  <thead>\n",
       "    <tr style=\"text-align: right;\">\n",
       "      <th></th>\n",
       "      <th>name</th>\n",
       "      <th>description</th>\n",
       "    </tr>\n",
       "  </thead>\n",
       "  <tbody>\n",
       "    <tr>\n",
       "      <th>0</th>\n",
       "      <td>Neerja</td>\n",
       "      <td>Neerja is the story of the courageous Neerja B...</td>\n",
       "    </tr>\n",
       "    <tr>\n",
       "      <th>1</th>\n",
       "      <td>Udta Punjab</td>\n",
       "      <td>A story that revolves around drug abuse in the...</td>\n",
       "    </tr>\n",
       "    <tr>\n",
       "      <th>2</th>\n",
       "      <td>Kabhi Khushi Kabhie Gham...</td>\n",
       "      <td>Yashvardhan Raichand lives a very wealthy life...</td>\n",
       "    </tr>\n",
       "    <tr>\n",
       "      <th>3</th>\n",
       "      <td>Kal Ho Naa Ho</td>\n",
       "      <td>Naina, an introverted, perpetually depressed g...</td>\n",
       "    </tr>\n",
       "    <tr>\n",
       "      <th>4</th>\n",
       "      <td>Parched</td>\n",
       "      <td>'Parched' is a story about women set in the he...</td>\n",
       "    </tr>\n",
       "    <tr>\n",
       "      <th>...</th>\n",
       "      <td>...</td>\n",
       "      <td>...</td>\n",
       "    </tr>\n",
       "    <tr>\n",
       "      <th>2845</th>\n",
       "      <td>Ranadheera</td>\n",
       "      <td>NaN</td>\n",
       "    </tr>\n",
       "    <tr>\n",
       "      <th>2846</th>\n",
       "      <td>Myna</td>\n",
       "      <td>NaN</td>\n",
       "    </tr>\n",
       "    <tr>\n",
       "      <th>2847</th>\n",
       "      <td>Chaddi Dosth</td>\n",
       "      <td>The plot is simple. Ranganna (Rangayana Raghu)...</td>\n",
       "    </tr>\n",
       "    <tr>\n",
       "      <th>2848</th>\n",
       "      <td>Shravani Subramanya</td>\n",
       "      <td>NaN</td>\n",
       "    </tr>\n",
       "    <tr>\n",
       "      <th>2849</th>\n",
       "      <td>Dharmasere</td>\n",
       "      <td>NaN</td>\n",
       "    </tr>\n",
       "  </tbody>\n",
       "</table>\n",
       "<p>2850 rows × 2 columns</p>\n",
       "</div>"
      ],
      "text/plain": [
       "                             name  \\\n",
       "0                          Neerja   \n",
       "1                     Udta Punjab   \n",
       "2     Kabhi Khushi Kabhie Gham...   \n",
       "3                   Kal Ho Naa Ho   \n",
       "4                         Parched   \n",
       "...                           ...   \n",
       "2845                   Ranadheera   \n",
       "2846                         Myna   \n",
       "2847                 Chaddi Dosth   \n",
       "2848          Shravani Subramanya   \n",
       "2849                   Dharmasere   \n",
       "\n",
       "                                            description  \n",
       "0     Neerja is the story of the courageous Neerja B...  \n",
       "1     A story that revolves around drug abuse in the...  \n",
       "2     Yashvardhan Raichand lives a very wealthy life...  \n",
       "3     Naina, an introverted, perpetually depressed g...  \n",
       "4     'Parched' is a story about women set in the he...  \n",
       "...                                                 ...  \n",
       "2845                                                NaN  \n",
       "2846                                                NaN  \n",
       "2847  The plot is simple. Ranganna (Rangayana Raghu)...  \n",
       "2848                                                NaN  \n",
       "2849                                                NaN  \n",
       "\n",
       "[2850 rows x 2 columns]"
      ]
     },
     "execution_count": 10,
     "metadata": {},
     "output_type": "execute_result"
    }
   ],
   "source": [
    "df=df[['name','description']]\n",
    "df"
   ]
  },
  {
   "cell_type": "code",
   "execution_count": 11,
   "id": "e18ffd96-9cff-4e8d-a606-66af21f06925",
   "metadata": {},
   "outputs": [],
   "source": [
    "import warnings\n",
    "warnings.filterwarnings('ignore')"
   ]
  },
  {
   "cell_type": "code",
   "execution_count": 12,
   "id": "29387e37-8bad-4605-8d09-7ea7ada98075",
   "metadata": {},
   "outputs": [],
   "source": [
    "df.drop_duplicates(inplace=True)"
   ]
  },
  {
   "cell_type": "code",
   "execution_count": 13,
   "id": "cf18be80-873a-40f7-8281-c1968f00e711",
   "metadata": {},
   "outputs": [
    {
     "data": {
      "text/html": [
       "<div>\n",
       "<style scoped>\n",
       "    .dataframe tbody tr th:only-of-type {\n",
       "        vertical-align: middle;\n",
       "    }\n",
       "\n",
       "    .dataframe tbody tr th {\n",
       "        vertical-align: top;\n",
       "    }\n",
       "\n",
       "    .dataframe thead th {\n",
       "        text-align: right;\n",
       "    }\n",
       "</style>\n",
       "<table border=\"1\" class=\"dataframe\">\n",
       "  <thead>\n",
       "    <tr style=\"text-align: right;\">\n",
       "      <th></th>\n",
       "      <th>name</th>\n",
       "      <th>description</th>\n",
       "    </tr>\n",
       "  </thead>\n",
       "  <tbody>\n",
       "    <tr>\n",
       "      <th>0</th>\n",
       "      <td>Neerja</td>\n",
       "      <td>Neerja is the story of the courageous Neerja B...</td>\n",
       "    </tr>\n",
       "    <tr>\n",
       "      <th>1</th>\n",
       "      <td>Udta Punjab</td>\n",
       "      <td>A story that revolves around drug abuse in the...</td>\n",
       "    </tr>\n",
       "    <tr>\n",
       "      <th>2</th>\n",
       "      <td>Kabhi Khushi Kabhie Gham...</td>\n",
       "      <td>Yashvardhan Raichand lives a very wealthy life...</td>\n",
       "    </tr>\n",
       "    <tr>\n",
       "      <th>3</th>\n",
       "      <td>Kal Ho Naa Ho</td>\n",
       "      <td>Naina, an introverted, perpetually depressed g...</td>\n",
       "    </tr>\n",
       "    <tr>\n",
       "      <th>4</th>\n",
       "      <td>Parched</td>\n",
       "      <td>'Parched' is a story about women set in the he...</td>\n",
       "    </tr>\n",
       "    <tr>\n",
       "      <th>...</th>\n",
       "      <td>...</td>\n",
       "      <td>...</td>\n",
       "    </tr>\n",
       "    <tr>\n",
       "      <th>2845</th>\n",
       "      <td>Ranadheera</td>\n",
       "      <td>NaN</td>\n",
       "    </tr>\n",
       "    <tr>\n",
       "      <th>2846</th>\n",
       "      <td>Myna</td>\n",
       "      <td>NaN</td>\n",
       "    </tr>\n",
       "    <tr>\n",
       "      <th>2847</th>\n",
       "      <td>Chaddi Dosth</td>\n",
       "      <td>The plot is simple. Ranganna (Rangayana Raghu)...</td>\n",
       "    </tr>\n",
       "    <tr>\n",
       "      <th>2848</th>\n",
       "      <td>Shravani Subramanya</td>\n",
       "      <td>NaN</td>\n",
       "    </tr>\n",
       "    <tr>\n",
       "      <th>2849</th>\n",
       "      <td>Dharmasere</td>\n",
       "      <td>NaN</td>\n",
       "    </tr>\n",
       "  </tbody>\n",
       "</table>\n",
       "<p>2837 rows × 2 columns</p>\n",
       "</div>"
      ],
      "text/plain": [
       "                             name  \\\n",
       "0                          Neerja   \n",
       "1                     Udta Punjab   \n",
       "2     Kabhi Khushi Kabhie Gham...   \n",
       "3                   Kal Ho Naa Ho   \n",
       "4                         Parched   \n",
       "...                           ...   \n",
       "2845                   Ranadheera   \n",
       "2846                         Myna   \n",
       "2847                 Chaddi Dosth   \n",
       "2848          Shravani Subramanya   \n",
       "2849                   Dharmasere   \n",
       "\n",
       "                                            description  \n",
       "0     Neerja is the story of the courageous Neerja B...  \n",
       "1     A story that revolves around drug abuse in the...  \n",
       "2     Yashvardhan Raichand lives a very wealthy life...  \n",
       "3     Naina, an introverted, perpetually depressed g...  \n",
       "4     'Parched' is a story about women set in the he...  \n",
       "...                                                 ...  \n",
       "2845                                                NaN  \n",
       "2846                                                NaN  \n",
       "2847  The plot is simple. Ranganna (Rangayana Raghu)...  \n",
       "2848                                                NaN  \n",
       "2849                                                NaN  \n",
       "\n",
       "[2837 rows x 2 columns]"
      ]
     },
     "execution_count": 13,
     "metadata": {},
     "output_type": "execute_result"
    }
   ],
   "source": [
    "df"
   ]
  },
  {
   "cell_type": "code",
   "execution_count": 14,
   "id": "0821fdf2-f400-499c-b694-b2c30f9d7031",
   "metadata": {},
   "outputs": [],
   "source": [
    "df.dropna(inplace=True)"
   ]
  },
  {
   "cell_type": "code",
   "execution_count": 15,
   "id": "d6348d7c-bd40-42b2-a47c-b10f536c7a17",
   "metadata": {},
   "outputs": [
    {
     "data": {
      "text/html": [
       "<div>\n",
       "<style scoped>\n",
       "    .dataframe tbody tr th:only-of-type {\n",
       "        vertical-align: middle;\n",
       "    }\n",
       "\n",
       "    .dataframe tbody tr th {\n",
       "        vertical-align: top;\n",
       "    }\n",
       "\n",
       "    .dataframe thead th {\n",
       "        text-align: right;\n",
       "    }\n",
       "</style>\n",
       "<table border=\"1\" class=\"dataframe\">\n",
       "  <thead>\n",
       "    <tr style=\"text-align: right;\">\n",
       "      <th></th>\n",
       "      <th>name</th>\n",
       "      <th>description</th>\n",
       "    </tr>\n",
       "  </thead>\n",
       "  <tbody>\n",
       "    <tr>\n",
       "      <th>0</th>\n",
       "      <td>Neerja</td>\n",
       "      <td>Neerja is the story of the courageous Neerja B...</td>\n",
       "    </tr>\n",
       "    <tr>\n",
       "      <th>1</th>\n",
       "      <td>Udta Punjab</td>\n",
       "      <td>A story that revolves around drug abuse in the...</td>\n",
       "    </tr>\n",
       "    <tr>\n",
       "      <th>2</th>\n",
       "      <td>Kabhi Khushi Kabhie Gham...</td>\n",
       "      <td>Yashvardhan Raichand lives a very wealthy life...</td>\n",
       "    </tr>\n",
       "    <tr>\n",
       "      <th>3</th>\n",
       "      <td>Kal Ho Naa Ho</td>\n",
       "      <td>Naina, an introverted, perpetually depressed g...</td>\n",
       "    </tr>\n",
       "    <tr>\n",
       "      <th>4</th>\n",
       "      <td>Parched</td>\n",
       "      <td>'Parched' is a story about women set in the he...</td>\n",
       "    </tr>\n",
       "    <tr>\n",
       "      <th>...</th>\n",
       "      <td>...</td>\n",
       "      <td>...</td>\n",
       "    </tr>\n",
       "    <tr>\n",
       "      <th>2838</th>\n",
       "      <td>Run Antony</td>\n",
       "      <td>Antony is depressed and wants to commit suicid...</td>\n",
       "    </tr>\n",
       "    <tr>\n",
       "      <th>2841</th>\n",
       "      <td>Jolly Days</td>\n",
       "      <td>A bubbly tale, the story is about four pairs o...</td>\n",
       "    </tr>\n",
       "    <tr>\n",
       "      <th>2842</th>\n",
       "      <td>The Great Story of Sodabuddi</td>\n",
       "      <td>The film tells the story of Sodabuddi, who spe...</td>\n",
       "    </tr>\n",
       "    <tr>\n",
       "      <th>2844</th>\n",
       "      <td>Vamshi</td>\n",
       "      <td>Vamshi, under the eye of his mother is living ...</td>\n",
       "    </tr>\n",
       "    <tr>\n",
       "      <th>2847</th>\n",
       "      <td>Chaddi Dosth</td>\n",
       "      <td>The plot is simple. Ranganna (Rangayana Raghu)...</td>\n",
       "    </tr>\n",
       "  </tbody>\n",
       "</table>\n",
       "<p>1751 rows × 2 columns</p>\n",
       "</div>"
      ],
      "text/plain": [
       "                              name  \\\n",
       "0                           Neerja   \n",
       "1                      Udta Punjab   \n",
       "2      Kabhi Khushi Kabhie Gham...   \n",
       "3                    Kal Ho Naa Ho   \n",
       "4                          Parched   \n",
       "...                            ...   \n",
       "2838                    Run Antony   \n",
       "2841                    Jolly Days   \n",
       "2842  The Great Story of Sodabuddi   \n",
       "2844                        Vamshi   \n",
       "2847                  Chaddi Dosth   \n",
       "\n",
       "                                            description  \n",
       "0     Neerja is the story of the courageous Neerja B...  \n",
       "1     A story that revolves around drug abuse in the...  \n",
       "2     Yashvardhan Raichand lives a very wealthy life...  \n",
       "3     Naina, an introverted, perpetually depressed g...  \n",
       "4     'Parched' is a story about women set in the he...  \n",
       "...                                                 ...  \n",
       "2838  Antony is depressed and wants to commit suicid...  \n",
       "2841  A bubbly tale, the story is about four pairs o...  \n",
       "2842  The film tells the story of Sodabuddi, who spe...  \n",
       "2844  Vamshi, under the eye of his mother is living ...  \n",
       "2847  The plot is simple. Ranganna (Rangayana Raghu)...  \n",
       "\n",
       "[1751 rows x 2 columns]"
      ]
     },
     "execution_count": 15,
     "metadata": {},
     "output_type": "execute_result"
    }
   ],
   "source": [
    "df"
   ]
  },
  {
   "cell_type": "code",
   "execution_count": 16,
   "id": "8f532f7c-8c02-48de-a85a-6c88d96a63c1",
   "metadata": {},
   "outputs": [
    {
     "data": {
      "text/html": [
       "<div>\n",
       "<style scoped>\n",
       "    .dataframe tbody tr th:only-of-type {\n",
       "        vertical-align: middle;\n",
       "    }\n",
       "\n",
       "    .dataframe tbody tr th {\n",
       "        vertical-align: top;\n",
       "    }\n",
       "\n",
       "    .dataframe thead th {\n",
       "        text-align: right;\n",
       "    }\n",
       "</style>\n",
       "<table border=\"1\" class=\"dataframe\">\n",
       "  <thead>\n",
       "    <tr style=\"text-align: right;\">\n",
       "      <th></th>\n",
       "      <th>index</th>\n",
       "      <th>name</th>\n",
       "      <th>description</th>\n",
       "    </tr>\n",
       "  </thead>\n",
       "  <tbody>\n",
       "    <tr>\n",
       "      <th>0</th>\n",
       "      <td>0</td>\n",
       "      <td>Neerja</td>\n",
       "      <td>Neerja is the story of the courageous Neerja B...</td>\n",
       "    </tr>\n",
       "    <tr>\n",
       "      <th>1</th>\n",
       "      <td>1</td>\n",
       "      <td>Udta Punjab</td>\n",
       "      <td>A story that revolves around drug abuse in the...</td>\n",
       "    </tr>\n",
       "    <tr>\n",
       "      <th>2</th>\n",
       "      <td>2</td>\n",
       "      <td>Kabhi Khushi Kabhie Gham...</td>\n",
       "      <td>Yashvardhan Raichand lives a very wealthy life...</td>\n",
       "    </tr>\n",
       "    <tr>\n",
       "      <th>3</th>\n",
       "      <td>3</td>\n",
       "      <td>Kal Ho Naa Ho</td>\n",
       "      <td>Naina, an introverted, perpetually depressed g...</td>\n",
       "    </tr>\n",
       "    <tr>\n",
       "      <th>4</th>\n",
       "      <td>4</td>\n",
       "      <td>Parched</td>\n",
       "      <td>'Parched' is a story about women set in the he...</td>\n",
       "    </tr>\n",
       "    <tr>\n",
       "      <th>...</th>\n",
       "      <td>...</td>\n",
       "      <td>...</td>\n",
       "      <td>...</td>\n",
       "    </tr>\n",
       "    <tr>\n",
       "      <th>1746</th>\n",
       "      <td>2838</td>\n",
       "      <td>Run Antony</td>\n",
       "      <td>Antony is depressed and wants to commit suicid...</td>\n",
       "    </tr>\n",
       "    <tr>\n",
       "      <th>1747</th>\n",
       "      <td>2841</td>\n",
       "      <td>Jolly Days</td>\n",
       "      <td>A bubbly tale, the story is about four pairs o...</td>\n",
       "    </tr>\n",
       "    <tr>\n",
       "      <th>1748</th>\n",
       "      <td>2842</td>\n",
       "      <td>The Great Story of Sodabuddi</td>\n",
       "      <td>The film tells the story of Sodabuddi, who spe...</td>\n",
       "    </tr>\n",
       "    <tr>\n",
       "      <th>1749</th>\n",
       "      <td>2844</td>\n",
       "      <td>Vamshi</td>\n",
       "      <td>Vamshi, under the eye of his mother is living ...</td>\n",
       "    </tr>\n",
       "    <tr>\n",
       "      <th>1750</th>\n",
       "      <td>2847</td>\n",
       "      <td>Chaddi Dosth</td>\n",
       "      <td>The plot is simple. Ranganna (Rangayana Raghu)...</td>\n",
       "    </tr>\n",
       "  </tbody>\n",
       "</table>\n",
       "<p>1751 rows × 3 columns</p>\n",
       "</div>"
      ],
      "text/plain": [
       "      index                          name  \\\n",
       "0         0                        Neerja   \n",
       "1         1                   Udta Punjab   \n",
       "2         2   Kabhi Khushi Kabhie Gham...   \n",
       "3         3                 Kal Ho Naa Ho   \n",
       "4         4                       Parched   \n",
       "...     ...                           ...   \n",
       "1746   2838                    Run Antony   \n",
       "1747   2841                    Jolly Days   \n",
       "1748   2842  The Great Story of Sodabuddi   \n",
       "1749   2844                        Vamshi   \n",
       "1750   2847                  Chaddi Dosth   \n",
       "\n",
       "                                            description  \n",
       "0     Neerja is the story of the courageous Neerja B...  \n",
       "1     A story that revolves around drug abuse in the...  \n",
       "2     Yashvardhan Raichand lives a very wealthy life...  \n",
       "3     Naina, an introverted, perpetually depressed g...  \n",
       "4     'Parched' is a story about women set in the he...  \n",
       "...                                                 ...  \n",
       "1746  Antony is depressed and wants to commit suicid...  \n",
       "1747  A bubbly tale, the story is about four pairs o...  \n",
       "1748  The film tells the story of Sodabuddi, who spe...  \n",
       "1749  Vamshi, under the eye of his mother is living ...  \n",
       "1750  The plot is simple. Ranganna (Rangayana Raghu)...  \n",
       "\n",
       "[1751 rows x 3 columns]"
      ]
     },
     "execution_count": 16,
     "metadata": {},
     "output_type": "execute_result"
    }
   ],
   "source": [
    "df.reset_index()"
   ]
  },
  {
   "cell_type": "code",
   "execution_count": 17,
   "id": "38629744-1dea-44c8-a7b1-a2b309c0568a",
   "metadata": {},
   "outputs": [
    {
     "data": {
      "text/html": [
       "<div>\n",
       "<style scoped>\n",
       "    .dataframe tbody tr th:only-of-type {\n",
       "        vertical-align: middle;\n",
       "    }\n",
       "\n",
       "    .dataframe tbody tr th {\n",
       "        vertical-align: top;\n",
       "    }\n",
       "\n",
       "    .dataframe thead th {\n",
       "        text-align: right;\n",
       "    }\n",
       "</style>\n",
       "<table border=\"1\" class=\"dataframe\">\n",
       "  <thead>\n",
       "    <tr style=\"text-align: right;\">\n",
       "      <th></th>\n",
       "      <th>name</th>\n",
       "      <th>description</th>\n",
       "    </tr>\n",
       "  </thead>\n",
       "  <tbody>\n",
       "    <tr>\n",
       "      <th>0</th>\n",
       "      <td>Neerja</td>\n",
       "      <td>Neerja is the story of the courageous Neerja B...</td>\n",
       "    </tr>\n",
       "    <tr>\n",
       "      <th>1</th>\n",
       "      <td>Udta Punjab</td>\n",
       "      <td>A story that revolves around drug abuse in the...</td>\n",
       "    </tr>\n",
       "    <tr>\n",
       "      <th>2</th>\n",
       "      <td>Kabhi Khushi Kabhie Gham...</td>\n",
       "      <td>Yashvardhan Raichand lives a very wealthy life...</td>\n",
       "    </tr>\n",
       "    <tr>\n",
       "      <th>3</th>\n",
       "      <td>Kal Ho Naa Ho</td>\n",
       "      <td>Naina, an introverted, perpetually depressed g...</td>\n",
       "    </tr>\n",
       "    <tr>\n",
       "      <th>4</th>\n",
       "      <td>Parched</td>\n",
       "      <td>'Parched' is a story about women set in the he...</td>\n",
       "    </tr>\n",
       "    <tr>\n",
       "      <th>...</th>\n",
       "      <td>...</td>\n",
       "      <td>...</td>\n",
       "    </tr>\n",
       "    <tr>\n",
       "      <th>1746</th>\n",
       "      <td>Run Antony</td>\n",
       "      <td>Antony is depressed and wants to commit suicid...</td>\n",
       "    </tr>\n",
       "    <tr>\n",
       "      <th>1747</th>\n",
       "      <td>Jolly Days</td>\n",
       "      <td>A bubbly tale, the story is about four pairs o...</td>\n",
       "    </tr>\n",
       "    <tr>\n",
       "      <th>1748</th>\n",
       "      <td>The Great Story of Sodabuddi</td>\n",
       "      <td>The film tells the story of Sodabuddi, who spe...</td>\n",
       "    </tr>\n",
       "    <tr>\n",
       "      <th>1749</th>\n",
       "      <td>Vamshi</td>\n",
       "      <td>Vamshi, under the eye of his mother is living ...</td>\n",
       "    </tr>\n",
       "    <tr>\n",
       "      <th>1750</th>\n",
       "      <td>Chaddi Dosth</td>\n",
       "      <td>The plot is simple. Ranganna (Rangayana Raghu)...</td>\n",
       "    </tr>\n",
       "  </tbody>\n",
       "</table>\n",
       "<p>1751 rows × 2 columns</p>\n",
       "</div>"
      ],
      "text/plain": [
       "                              name  \\\n",
       "0                           Neerja   \n",
       "1                      Udta Punjab   \n",
       "2      Kabhi Khushi Kabhie Gham...   \n",
       "3                    Kal Ho Naa Ho   \n",
       "4                          Parched   \n",
       "...                            ...   \n",
       "1746                    Run Antony   \n",
       "1747                    Jolly Days   \n",
       "1748  The Great Story of Sodabuddi   \n",
       "1749                        Vamshi   \n",
       "1750                  Chaddi Dosth   \n",
       "\n",
       "                                            description  \n",
       "0     Neerja is the story of the courageous Neerja B...  \n",
       "1     A story that revolves around drug abuse in the...  \n",
       "2     Yashvardhan Raichand lives a very wealthy life...  \n",
       "3     Naina, an introverted, perpetually depressed g...  \n",
       "4     'Parched' is a story about women set in the he...  \n",
       "...                                                 ...  \n",
       "1746  Antony is depressed and wants to commit suicid...  \n",
       "1747  A bubbly tale, the story is about four pairs o...  \n",
       "1748  The film tells the story of Sodabuddi, who spe...  \n",
       "1749  Vamshi, under the eye of his mother is living ...  \n",
       "1750  The plot is simple. Ranganna (Rangayana Raghu)...  \n",
       "\n",
       "[1751 rows x 2 columns]"
      ]
     },
     "execution_count": 17,
     "metadata": {},
     "output_type": "execute_result"
    }
   ],
   "source": [
    "df.reset_index(drop=True,inplace=True)\n",
    "df"
   ]
  },
  {
   "cell_type": "code",
   "execution_count": 18,
   "id": "b199cf15-cafd-46ee-a6f3-13c44f52150d",
   "metadata": {},
   "outputs": [
    {
     "data": {
      "text/html": [
       "<div>\n",
       "<style scoped>\n",
       "    .dataframe tbody tr th:only-of-type {\n",
       "        vertical-align: middle;\n",
       "    }\n",
       "\n",
       "    .dataframe tbody tr th {\n",
       "        vertical-align: top;\n",
       "    }\n",
       "\n",
       "    .dataframe thead th {\n",
       "        text-align: right;\n",
       "    }\n",
       "</style>\n",
       "<table border=\"1\" class=\"dataframe\">\n",
       "  <thead>\n",
       "    <tr style=\"text-align: right;\">\n",
       "      <th></th>\n",
       "      <th>name</th>\n",
       "      <th>description</th>\n",
       "    </tr>\n",
       "  </thead>\n",
       "  <tbody>\n",
       "    <tr>\n",
       "      <th>0</th>\n",
       "      <td>neerja</td>\n",
       "      <td>Neerja is the story of the courageous Neerja B...</td>\n",
       "    </tr>\n",
       "    <tr>\n",
       "      <th>1</th>\n",
       "      <td>udta punjab</td>\n",
       "      <td>A story that revolves around drug abuse in the...</td>\n",
       "    </tr>\n",
       "    <tr>\n",
       "      <th>2</th>\n",
       "      <td>kabhi khushi kabhie gham...</td>\n",
       "      <td>Yashvardhan Raichand lives a very wealthy life...</td>\n",
       "    </tr>\n",
       "    <tr>\n",
       "      <th>3</th>\n",
       "      <td>kal ho naa ho</td>\n",
       "      <td>Naina, an introverted, perpetually depressed g...</td>\n",
       "    </tr>\n",
       "    <tr>\n",
       "      <th>4</th>\n",
       "      <td>parched</td>\n",
       "      <td>'Parched' is a story about women set in the he...</td>\n",
       "    </tr>\n",
       "    <tr>\n",
       "      <th>...</th>\n",
       "      <td>...</td>\n",
       "      <td>...</td>\n",
       "    </tr>\n",
       "    <tr>\n",
       "      <th>1746</th>\n",
       "      <td>run antony</td>\n",
       "      <td>Antony is depressed and wants to commit suicid...</td>\n",
       "    </tr>\n",
       "    <tr>\n",
       "      <th>1747</th>\n",
       "      <td>jolly days</td>\n",
       "      <td>A bubbly tale, the story is about four pairs o...</td>\n",
       "    </tr>\n",
       "    <tr>\n",
       "      <th>1748</th>\n",
       "      <td>the great story of sodabuddi</td>\n",
       "      <td>The film tells the story of Sodabuddi, who spe...</td>\n",
       "    </tr>\n",
       "    <tr>\n",
       "      <th>1749</th>\n",
       "      <td>vamshi</td>\n",
       "      <td>Vamshi, under the eye of his mother is living ...</td>\n",
       "    </tr>\n",
       "    <tr>\n",
       "      <th>1750</th>\n",
       "      <td>chaddi dosth</td>\n",
       "      <td>The plot is simple. Ranganna (Rangayana Raghu)...</td>\n",
       "    </tr>\n",
       "  </tbody>\n",
       "</table>\n",
       "<p>1751 rows × 2 columns</p>\n",
       "</div>"
      ],
      "text/plain": [
       "                              name  \\\n",
       "0                           neerja   \n",
       "1                      udta punjab   \n",
       "2      kabhi khushi kabhie gham...   \n",
       "3                    kal ho naa ho   \n",
       "4                          parched   \n",
       "...                            ...   \n",
       "1746                    run antony   \n",
       "1747                    jolly days   \n",
       "1748  the great story of sodabuddi   \n",
       "1749                        vamshi   \n",
       "1750                  chaddi dosth   \n",
       "\n",
       "                                            description  \n",
       "0     Neerja is the story of the courageous Neerja B...  \n",
       "1     A story that revolves around drug abuse in the...  \n",
       "2     Yashvardhan Raichand lives a very wealthy life...  \n",
       "3     Naina, an introverted, perpetually depressed g...  \n",
       "4     'Parched' is a story about women set in the he...  \n",
       "...                                                 ...  \n",
       "1746  Antony is depressed and wants to commit suicid...  \n",
       "1747  A bubbly tale, the story is about four pairs o...  \n",
       "1748  The film tells the story of Sodabuddi, who spe...  \n",
       "1749  Vamshi, under the eye of his mother is living ...  \n",
       "1750  The plot is simple. Ranganna (Rangayana Raghu)...  \n",
       "\n",
       "[1751 rows x 2 columns]"
      ]
     },
     "execution_count": 18,
     "metadata": {},
     "output_type": "execute_result"
    }
   ],
   "source": [
    "df.name=df.name.map(str.lower)\n",
    "df"
   ]
  },
  {
   "cell_type": "code",
   "execution_count": 19,
   "id": "c1627989-e231-4f3b-82b1-f8dc0ca65bf8",
   "metadata": {},
   "outputs": [],
   "source": [
    "tfv=TfidfVectorizer()\n",
    "matrix=tfv.fit_transform(df.description).toarray()"
   ]
  },
  {
   "cell_type": "code",
   "execution_count": 20,
   "id": "77ba1b76-2cad-4ae2-8b21-b2c38687ec0d",
   "metadata": {},
   "outputs": [
    {
     "data": {
      "text/plain": [
       "array([[0., 0., 0., ..., 0., 0., 0.],\n",
       "       [0., 0., 0., ..., 0., 0., 0.],\n",
       "       [0., 0., 0., ..., 0., 0., 0.],\n",
       "       ...,\n",
       "       [0., 0., 0., ..., 0., 0., 0.],\n",
       "       [0., 0., 0., ..., 0., 0., 0.],\n",
       "       [0., 0., 0., ..., 0., 0., 0.]])"
      ]
     },
     "execution_count": 20,
     "metadata": {},
     "output_type": "execute_result"
    }
   ],
   "source": [
    "matrix"
   ]
  },
  {
   "cell_type": "code",
   "execution_count": 21,
   "id": "b9d92c65-fa2f-43d2-8237-41892f8b8559",
   "metadata": {},
   "outputs": [],
   "source": [
    "from sklearn.neighbors import NearestNeighbors"
   ]
  },
  {
   "cell_type": "code",
   "execution_count": 22,
   "id": "2256a516-a33d-418c-8ada-2fef712e33fe",
   "metadata": {},
   "outputs": [
    {
     "data": {
      "text/html": [
       "<style>#sk-container-id-1 {color: black;background-color: white;}#sk-container-id-1 pre{padding: 0;}#sk-container-id-1 div.sk-toggleable {background-color: white;}#sk-container-id-1 label.sk-toggleable__label {cursor: pointer;display: block;width: 100%;margin-bottom: 0;padding: 0.3em;box-sizing: border-box;text-align: center;}#sk-container-id-1 label.sk-toggleable__label-arrow:before {content: \"▸\";float: left;margin-right: 0.25em;color: #696969;}#sk-container-id-1 label.sk-toggleable__label-arrow:hover:before {color: black;}#sk-container-id-1 div.sk-estimator:hover label.sk-toggleable__label-arrow:before {color: black;}#sk-container-id-1 div.sk-toggleable__content {max-height: 0;max-width: 0;overflow: hidden;text-align: left;background-color: #f0f8ff;}#sk-container-id-1 div.sk-toggleable__content pre {margin: 0.2em;color: black;border-radius: 0.25em;background-color: #f0f8ff;}#sk-container-id-1 input.sk-toggleable__control:checked~div.sk-toggleable__content {max-height: 200px;max-width: 100%;overflow: auto;}#sk-container-id-1 input.sk-toggleable__control:checked~label.sk-toggleable__label-arrow:before {content: \"▾\";}#sk-container-id-1 div.sk-estimator input.sk-toggleable__control:checked~label.sk-toggleable__label {background-color: #d4ebff;}#sk-container-id-1 div.sk-label input.sk-toggleable__control:checked~label.sk-toggleable__label {background-color: #d4ebff;}#sk-container-id-1 input.sk-hidden--visually {border: 0;clip: rect(1px 1px 1px 1px);clip: rect(1px, 1px, 1px, 1px);height: 1px;margin: -1px;overflow: hidden;padding: 0;position: absolute;width: 1px;}#sk-container-id-1 div.sk-estimator {font-family: monospace;background-color: #f0f8ff;border: 1px dotted black;border-radius: 0.25em;box-sizing: border-box;margin-bottom: 0.5em;}#sk-container-id-1 div.sk-estimator:hover {background-color: #d4ebff;}#sk-container-id-1 div.sk-parallel-item::after {content: \"\";width: 100%;border-bottom: 1px solid gray;flex-grow: 1;}#sk-container-id-1 div.sk-label:hover label.sk-toggleable__label {background-color: #d4ebff;}#sk-container-id-1 div.sk-serial::before {content: \"\";position: absolute;border-left: 1px solid gray;box-sizing: border-box;top: 0;bottom: 0;left: 50%;z-index: 0;}#sk-container-id-1 div.sk-serial {display: flex;flex-direction: column;align-items: center;background-color: white;padding-right: 0.2em;padding-left: 0.2em;position: relative;}#sk-container-id-1 div.sk-item {position: relative;z-index: 1;}#sk-container-id-1 div.sk-parallel {display: flex;align-items: stretch;justify-content: center;background-color: white;position: relative;}#sk-container-id-1 div.sk-item::before, #sk-container-id-1 div.sk-parallel-item::before {content: \"\";position: absolute;border-left: 1px solid gray;box-sizing: border-box;top: 0;bottom: 0;left: 50%;z-index: -1;}#sk-container-id-1 div.sk-parallel-item {display: flex;flex-direction: column;z-index: 1;position: relative;background-color: white;}#sk-container-id-1 div.sk-parallel-item:first-child::after {align-self: flex-end;width: 50%;}#sk-container-id-1 div.sk-parallel-item:last-child::after {align-self: flex-start;width: 50%;}#sk-container-id-1 div.sk-parallel-item:only-child::after {width: 0;}#sk-container-id-1 div.sk-dashed-wrapped {border: 1px dashed gray;margin: 0 0.4em 0.5em 0.4em;box-sizing: border-box;padding-bottom: 0.4em;background-color: white;}#sk-container-id-1 div.sk-label label {font-family: monospace;font-weight: bold;display: inline-block;line-height: 1.2em;}#sk-container-id-1 div.sk-label-container {text-align: center;}#sk-container-id-1 div.sk-container {/* jupyter's `normalize.less` sets `[hidden] { display: none; }` but bootstrap.min.css set `[hidden] { display: none !important; }` so we also need the `!important` here to be able to override the default hidden behavior on the sphinx rendered scikit-learn.org. See: https://github.com/scikit-learn/scikit-learn/issues/21755 */display: inline-block !important;position: relative;}#sk-container-id-1 div.sk-text-repr-fallback {display: none;}</style><div id=\"sk-container-id-1\" class=\"sk-top-container\"><div class=\"sk-text-repr-fallback\"><pre>NearestNeighbors(metric=&#x27;cosine&#x27;)</pre><b>In a Jupyter environment, please rerun this cell to show the HTML representation or trust the notebook. <br />On GitHub, the HTML representation is unable to render, please try loading this page with nbviewer.org.</b></div><div class=\"sk-container\" hidden><div class=\"sk-item\"><div class=\"sk-estimator sk-toggleable\"><input class=\"sk-toggleable__control sk-hidden--visually\" id=\"sk-estimator-id-1\" type=\"checkbox\" checked><label for=\"sk-estimator-id-1\" class=\"sk-toggleable__label sk-toggleable__label-arrow\">NearestNeighbors</label><div class=\"sk-toggleable__content\"><pre>NearestNeighbors(metric=&#x27;cosine&#x27;)</pre></div></div></div></div></div>"
      ],
      "text/plain": [
       "NearestNeighbors(metric='cosine')"
      ]
     },
     "execution_count": 22,
     "metadata": {},
     "output_type": "execute_result"
    }
   ],
   "source": [
    "model=NearestNeighbors(metric='cosine') #cosine distances\n",
    "model.fit(matrix)"
   ]
  },
  {
   "cell_type": "code",
   "execution_count": 23,
   "id": "d0bf65bc-8e8b-4fa2-83db-e05d328b24a2",
   "metadata": {},
   "outputs": [],
   "source": [
    "mv='Udta Punjab'.lower()\n",
    "mi=df[df.name==mv].index[0]"
   ]
  },
  {
   "cell_type": "code",
   "execution_count": 24,
   "id": "6f3dfa05-d672-41d1-9ad1-a52c156bf039",
   "metadata": {},
   "outputs": [
    {
     "data": {
      "text/plain": [
       "1"
      ]
     },
     "execution_count": 24,
     "metadata": {},
     "output_type": "execute_result"
    }
   ],
   "source": [
    "mi"
   ]
  },
  {
   "cell_type": "code",
   "execution_count": 25,
   "id": "44b2d95e-0afb-4c57-b344-e37d5be4969e",
   "metadata": {},
   "outputs": [
    {
     "data": {
      "text/plain": [
       "array([0., 0., 0., ..., 0., 0., 0.])"
      ]
     },
     "execution_count": 25,
     "metadata": {},
     "output_type": "execute_result"
    }
   ],
   "source": [
    "matrix[mi]"
   ]
  },
  {
   "cell_type": "code",
   "execution_count": 26,
   "id": "b35187b6-0544-4b89-8479-e973ab1da175",
   "metadata": {},
   "outputs": [],
   "source": [
    "dis,idx=model.kneighbors([matrix[mi]],n_neighbors=5)"
   ]
  },
  {
   "cell_type": "code",
   "execution_count": 27,
   "id": "1c3c55fb-2041-4216-a521-166f3619b3f5",
   "metadata": {},
   "outputs": [
    {
     "data": {
      "text/plain": [
       "array([[0.        , 0.82848389, 0.86335549, 0.86364972, 0.87154048]])"
      ]
     },
     "execution_count": 27,
     "metadata": {},
     "output_type": "execute_result"
    }
   ],
   "source": [
    "dis"
   ]
  },
  {
   "cell_type": "code",
   "execution_count": 28,
   "id": "556817c7-80ee-4ea2-a8e1-c7916b025f03",
   "metadata": {},
   "outputs": [
    {
     "data": {
      "text/plain": [
       "array([[  1, 862, 860, 940, 280]], dtype=int64)"
      ]
     },
     "execution_count": 28,
     "metadata": {},
     "output_type": "execute_result"
    }
   ],
   "source": [
    "idx"
   ]
  },
  {
   "cell_type": "code",
   "execution_count": 29,
   "id": "88681506-c617-4153-9de9-fe5f9031e98d",
   "metadata": {},
   "outputs": [
    {
     "data": {
      "text/plain": [
       "array([  1, 862, 860, 940, 280], dtype=int64)"
      ]
     },
     "execution_count": 29,
     "metadata": {},
     "output_type": "execute_result"
    }
   ],
   "source": [
    "idx[0]"
   ]
  },
  {
   "cell_type": "code",
   "execution_count": 30,
   "id": "6304fc18-4054-41da-801b-e9a9f77c990b",
   "metadata": {},
   "outputs": [
    {
     "name": "stdout",
     "output_type": "stream",
     "text": [
      "862\n",
      "860\n",
      "940\n",
      "280\n"
     ]
    }
   ],
   "source": [
    "for i in idx[0][1:]:\n",
    "    print(i)"
   ]
  },
  {
   "cell_type": "code",
   "execution_count": 31,
   "id": "be3d5433-da4b-4c60-9e3c-f9c845e25e7c",
   "metadata": {},
   "outputs": [
    {
     "name": "stdout",
     "output_type": "stream",
     "text": [
      "ardaas\n",
      "gelo\n",
      "shareek\n",
      "maachis\n"
     ]
    }
   ],
   "source": [
    "for i in idx[0][1:]:\n",
    "    print(df.loc[i].values[0])"
   ]
  },
  {
   "cell_type": "code",
   "execution_count": 32,
   "id": "a6d84680-96e4-4dd0-a1a1-82daa9af025a",
   "metadata": {},
   "outputs": [
    {
     "data": {
      "text/html": [
       "<style>#sk-container-id-2 {color: black;background-color: white;}#sk-container-id-2 pre{padding: 0;}#sk-container-id-2 div.sk-toggleable {background-color: white;}#sk-container-id-2 label.sk-toggleable__label {cursor: pointer;display: block;width: 100%;margin-bottom: 0;padding: 0.3em;box-sizing: border-box;text-align: center;}#sk-container-id-2 label.sk-toggleable__label-arrow:before {content: \"▸\";float: left;margin-right: 0.25em;color: #696969;}#sk-container-id-2 label.sk-toggleable__label-arrow:hover:before {color: black;}#sk-container-id-2 div.sk-estimator:hover label.sk-toggleable__label-arrow:before {color: black;}#sk-container-id-2 div.sk-toggleable__content {max-height: 0;max-width: 0;overflow: hidden;text-align: left;background-color: #f0f8ff;}#sk-container-id-2 div.sk-toggleable__content pre {margin: 0.2em;color: black;border-radius: 0.25em;background-color: #f0f8ff;}#sk-container-id-2 input.sk-toggleable__control:checked~div.sk-toggleable__content {max-height: 200px;max-width: 100%;overflow: auto;}#sk-container-id-2 input.sk-toggleable__control:checked~label.sk-toggleable__label-arrow:before {content: \"▾\";}#sk-container-id-2 div.sk-estimator input.sk-toggleable__control:checked~label.sk-toggleable__label {background-color: #d4ebff;}#sk-container-id-2 div.sk-label input.sk-toggleable__control:checked~label.sk-toggleable__label {background-color: #d4ebff;}#sk-container-id-2 input.sk-hidden--visually {border: 0;clip: rect(1px 1px 1px 1px);clip: rect(1px, 1px, 1px, 1px);height: 1px;margin: -1px;overflow: hidden;padding: 0;position: absolute;width: 1px;}#sk-container-id-2 div.sk-estimator {font-family: monospace;background-color: #f0f8ff;border: 1px dotted black;border-radius: 0.25em;box-sizing: border-box;margin-bottom: 0.5em;}#sk-container-id-2 div.sk-estimator:hover {background-color: #d4ebff;}#sk-container-id-2 div.sk-parallel-item::after {content: \"\";width: 100%;border-bottom: 1px solid gray;flex-grow: 1;}#sk-container-id-2 div.sk-label:hover label.sk-toggleable__label {background-color: #d4ebff;}#sk-container-id-2 div.sk-serial::before {content: \"\";position: absolute;border-left: 1px solid gray;box-sizing: border-box;top: 0;bottom: 0;left: 50%;z-index: 0;}#sk-container-id-2 div.sk-serial {display: flex;flex-direction: column;align-items: center;background-color: white;padding-right: 0.2em;padding-left: 0.2em;position: relative;}#sk-container-id-2 div.sk-item {position: relative;z-index: 1;}#sk-container-id-2 div.sk-parallel {display: flex;align-items: stretch;justify-content: center;background-color: white;position: relative;}#sk-container-id-2 div.sk-item::before, #sk-container-id-2 div.sk-parallel-item::before {content: \"\";position: absolute;border-left: 1px solid gray;box-sizing: border-box;top: 0;bottom: 0;left: 50%;z-index: -1;}#sk-container-id-2 div.sk-parallel-item {display: flex;flex-direction: column;z-index: 1;position: relative;background-color: white;}#sk-container-id-2 div.sk-parallel-item:first-child::after {align-self: flex-end;width: 50%;}#sk-container-id-2 div.sk-parallel-item:last-child::after {align-self: flex-start;width: 50%;}#sk-container-id-2 div.sk-parallel-item:only-child::after {width: 0;}#sk-container-id-2 div.sk-dashed-wrapped {border: 1px dashed gray;margin: 0 0.4em 0.5em 0.4em;box-sizing: border-box;padding-bottom: 0.4em;background-color: white;}#sk-container-id-2 div.sk-label label {font-family: monospace;font-weight: bold;display: inline-block;line-height: 1.2em;}#sk-container-id-2 div.sk-label-container {text-align: center;}#sk-container-id-2 div.sk-container {/* jupyter's `normalize.less` sets `[hidden] { display: none; }` but bootstrap.min.css set `[hidden] { display: none !important; }` so we also need the `!important` here to be able to override the default hidden behavior on the sphinx rendered scikit-learn.org. See: https://github.com/scikit-learn/scikit-learn/issues/21755 */display: inline-block !important;position: relative;}#sk-container-id-2 div.sk-text-repr-fallback {display: none;}</style><div id=\"sk-container-id-2\" class=\"sk-top-container\"><div class=\"sk-text-repr-fallback\"><pre>NearestNeighbors(metric=&#x27;cosine&#x27;)</pre><b>In a Jupyter environment, please rerun this cell to show the HTML representation or trust the notebook. <br />On GitHub, the HTML representation is unable to render, please try loading this page with nbviewer.org.</b></div><div class=\"sk-container\" hidden><div class=\"sk-item\"><div class=\"sk-estimator sk-toggleable\"><input class=\"sk-toggleable__control sk-hidden--visually\" id=\"sk-estimator-id-2\" type=\"checkbox\" checked><label for=\"sk-estimator-id-2\" class=\"sk-toggleable__label sk-toggleable__label-arrow\">NearestNeighbors</label><div class=\"sk-toggleable__content\"><pre>NearestNeighbors(metric=&#x27;cosine&#x27;)</pre></div></div></div></div></div>"
      ],
      "text/plain": [
       "NearestNeighbors(metric='cosine')"
      ]
     },
     "execution_count": 32,
     "metadata": {},
     "output_type": "execute_result"
    }
   ],
   "source": [
    "df=pd.read_csv('dataset/movies_content.csv')\n",
    "df=df[['name','description']]\n",
    "df.drop_duplicates(inplace=True)\n",
    "df.dropna(inplace=True)\n",
    "df.reset_index(drop=True,inplace=True)\n",
    "df.name=df.name.map(str.lower)\n",
    "tfv=TfidfVectorizer()\n",
    "matrix=tfv.fit_transform(df.description).toarray()\n",
    "model=NearestNeighbors(metric='cosine') #cosine distances\n",
    "model.fit(matrix)"
   ]
  },
  {
   "cell_type": "code",
   "execution_count": 34,
   "id": "80a5f383-81d6-48aa-bc97-e808c9f425dc",
   "metadata": {},
   "outputs": [
    {
     "name": "stdin",
     "output_type": "stream",
     "text": [
      "Enter Movie Name: kal ho naa ho\n"
     ]
    },
    {
     "name": "stdout",
     "output_type": "stream",
     "text": [
      "*********Recommendations for you********\n",
      "pyaar ka punchnama 2\n",
      "ente entethu mathram\n",
      "pyaar ka punchnama\n",
      "dristibhram\n"
     ]
    }
   ],
   "source": [
    "try:\n",
    "    mv=input('Enter Movie Name:').lower()\n",
    "    mi=df[df.name==mv].index[0]\n",
    "    dis,idx=model.kneighbors([matrix[mi]],n_neighbors=5)\n",
    "    print(\"*********Recommendations for you********\")\n",
    "    for i in idx[0][1:]:\n",
    "        print(df.loc[i].values[0])\n",
    "except:\n",
    "    print(\"something went wrong,might be due movie not found in database\")"
   ]
  },
  {
   "cell_type": "code",
   "execution_count": null,
   "id": "46f09318-c026-4651-96ac-db97f96ccb92",
   "metadata": {},
   "outputs": [],
   "source": []
  }
 ],
 "metadata": {
  "kernelspec": {
   "display_name": "Python 3 (ipykernel)",
   "language": "python",
   "name": "python3"
  },
  "language_info": {
   "codemirror_mode": {
    "name": "ipython",
    "version": 3
   },
   "file_extension": ".py",
   "mimetype": "text/x-python",
   "name": "python",
   "nbconvert_exporter": "python",
   "pygments_lexer": "ipython3",
   "version": "3.11.7"
  }
 },
 "nbformat": 4,
 "nbformat_minor": 5
}
